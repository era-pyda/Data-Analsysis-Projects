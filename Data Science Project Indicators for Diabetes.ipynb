{
 "cells": [
  {
   "cell_type": "markdown",
   "id": "c99fb9e7",
   "metadata": {
    "collapsed": true
   },
   "source": [
    "# Health Indicators for Diabetes"
   ]
  },
  {
   "cell_type": "markdown",
   "id": "3280bffb",
   "metadata": {},
   "source": [
    "## Background\n",
    "\n",
    "This dataset consists of a cleaned dataset of 253,680 survey responses for the CDC's BRFSS2015 (Behavioral Risk Factor Surveillance System) conducted in 2015 and can be found [here](https://www.kaggle.com/alexteboul/diabetes-health-indicators-dataset). The original data comes from the CDC and can be accessed with this [link](https://www.kaggle.com/cdc/behavioral-risk-factor-surveillance-system). The surveys were conducted via phone (landline or cellphone) in the 50 states in the United States, as well as US city-state, Washington D.C., and two American territories (Guam and Puerto Rico).\n",
    "\n",
    "The original dataset focused on many factors related to the developement or prevention of chronic and preventable diseases and injuries such as demographics, diet, fitness, current health conditions, and mental health. \n",
    "\n",
    "The purpose of this project is to practice data analysis and to explore which indicators are related to the occurence of a person developing diabetes versus not developing the disease. \n"
   ]
  },
  {
   "cell_type": "markdown",
   "id": "df2502d8",
   "metadata": {},
   "source": [
    "## Data Dictionary\n",
    "\n",
    "Below is the data dictionary for each of our columns\n",
    "\n",
    "\n",
    "\n",
    "| Column name      | Description |\n",
    "| :---        |    :----   |       \n",
    "| 'Diabetes_012'     | 0 = no diabetes 1 (or only during pregnancy), 1= prediabetes, 2 = diabetes| \n",
    "| 'HighBP'   | 0 = no high blood pressure, 1 = high blood pressure        | \n",
    "| 'HighChol'      |0 = no high cholesterol, 1 = high cholesterol | \n",
    "| 'CholCheck'      |0 = no cholesterol not checked in 5 years, 1 = yes cholesterol checked in 5 years | \n",
    "| 'BMI'     | Body Mass Index       | \n",
    "| 'Smoker'  | Smoked at least 100 cigarettes in entire life? [Note: 5 packs = 100 cigarettes]: 0 = no, 1 = yes       | \n",
    "| 'Stroke'     | Diagnosed with a stroke: 0 = no,1 = yes| \n",
    "| 'HeartDiseaseorAttack'   | coronary heart disease (CHD) or myocardial infarction (MI): 0 = no 1 = yes| \n",
    "| 'PhysActivity'      |physical activity in past 30 days-not including job: 0 = no, 1 = yes | \n",
    "| 'Fruits'     | Consume fruit 1 or more times per day: 0 = no, 1 = yes       | \n",
    "| 'Veggies'  | Consume vegetables 1 or more times per day: 0 = no, 1 = yes       | \n",
    "| 'HvyAlcoholConsump'     | Heavy drinking weekly(adult men- more than 14 drinks, adult women-more than 7 drinks): 0 = no, 1 = yes| \n",
    "| 'AnyHealthcare'   | Have any kind of health care coverage, including health insurance, prepaid plans such as HMO, etc. 0 = no, 1 = yes       | \n",
    "| 'NoDocbcCost'      |Refused to visit doctor when needed due to cost in the past 12 months: 0 = no, 1 = yes| \n",
    "| 'GenHlth'     | General Health Rating on scale 1-5: 1 = excellent, 2 = very good, 3 = good, 4 = fair, 5 = poor\n",
    "       | \n",
    "| 'MentHlth'  | Number of days with poor mental health(e.g. stress, depression, emotional difficulties) during the past 30 days: scale 1-30 days       | \n",
    "| 'PhysHlth'     | Number of days with poor physical health(e.g. physical illness, injury) during the past 30 days: scale 1-30 days | \n",
    "| 'DiffWalk'   | Serious difficulty walking or climbing stairs? 0 = no 1 = yes | \n",
    "| 'Sex'      |0 = female 1 = male | \n",
    "| 'Age'     | 1= 18 to 24, 2=25 to 29, 3=30 to 34, 4=35 to 39, 5=40 to 44, 6=45 to 49, 7=50 to 54, 8=55 to 59, 9=60 to 64, 10=65 to 69, 11=70 to 74, 12=75 to 79, 13=Age 80 or older\n",
    "       | \n",
    "| 'Education'  | Education level scale 1-6: 1 = Never attended school or only kindergarten, 2 = Grades 1 through 8 (Elementary), 3 = Grades 9 through 11 (Some high school), 4 = Grade 12 or GED (High school graduate), 5 = College 1 year to 3 years (Some college or technical school), 6 = College 4 years or more (College graduate)       | \n",
    "| 'Income'     |In US dollars: 1=Less than 10,000, 2=Less than 15,000, 3=Less than 20,000, 4=Less than 25,000, 5=Less than 35,000), 6=Less than 50,000, 7=Less than 75,000, 8=75,000 or more, 77=Don’t know/Not sure, 99=Refused |\n",
    "\n",
    "\n",
    "\n",
    "\n",
    "\n",
    "\n",
    "\n",
    "\n",
    "\n"
   ]
  },
  {
   "cell_type": "markdown",
   "id": "1309a982",
   "metadata": {},
   "source": [
    "## Import Libraries (Remove unneeded libraries)"
   ]
  },
  {
   "cell_type": "code",
   "execution_count": 1,
   "id": "a1f26c1d",
   "metadata": {},
   "outputs": [],
   "source": [
    "import os\n",
    "import numpy as np\n",
    "import pandas as pd\n",
    "\n",
    "import matplotlib.pyplot as plt\n",
    "%matplotlib inline"
   ]
  },
  {
   "cell_type": "markdown",
   "id": "54f65854",
   "metadata": {},
   "source": [
    "## Load Data (How to upload CSV from online instead of local)\n",
    "\n"
   ]
  },
  {
   "cell_type": "code",
   "execution_count": 2,
   "id": "aec40da8",
   "metadata": {},
   "outputs": [
    {
     "data": {
      "text/html": [
       "<div>\n",
       "<style scoped>\n",
       "    .dataframe tbody tr th:only-of-type {\n",
       "        vertical-align: middle;\n",
       "    }\n",
       "\n",
       "    .dataframe tbody tr th {\n",
       "        vertical-align: top;\n",
       "    }\n",
       "\n",
       "    .dataframe thead th {\n",
       "        text-align: right;\n",
       "    }\n",
       "</style>\n",
       "<table border=\"1\" class=\"dataframe\">\n",
       "  <thead>\n",
       "    <tr style=\"text-align: right;\">\n",
       "      <th></th>\n",
       "      <th>Diabetes_012</th>\n",
       "      <th>HighBP</th>\n",
       "      <th>HighChol</th>\n",
       "      <th>CholCheck</th>\n",
       "      <th>BMI</th>\n",
       "      <th>Smoker</th>\n",
       "      <th>Stroke</th>\n",
       "      <th>HeartDiseaseorAttack</th>\n",
       "      <th>PhysActivity</th>\n",
       "      <th>Fruits</th>\n",
       "      <th>...</th>\n",
       "      <th>AnyHealthcare</th>\n",
       "      <th>NoDocbcCost</th>\n",
       "      <th>GenHlth</th>\n",
       "      <th>MentHlth</th>\n",
       "      <th>PhysHlth</th>\n",
       "      <th>DiffWalk</th>\n",
       "      <th>Sex</th>\n",
       "      <th>Age</th>\n",
       "      <th>Education</th>\n",
       "      <th>Income</th>\n",
       "    </tr>\n",
       "  </thead>\n",
       "  <tbody>\n",
       "    <tr>\n",
       "      <th>0</th>\n",
       "      <td>0.0</td>\n",
       "      <td>1.0</td>\n",
       "      <td>1.0</td>\n",
       "      <td>1.0</td>\n",
       "      <td>40.0</td>\n",
       "      <td>1.0</td>\n",
       "      <td>0.0</td>\n",
       "      <td>0.0</td>\n",
       "      <td>0.0</td>\n",
       "      <td>0.0</td>\n",
       "      <td>...</td>\n",
       "      <td>1.0</td>\n",
       "      <td>0.0</td>\n",
       "      <td>5.0</td>\n",
       "      <td>18.0</td>\n",
       "      <td>15.0</td>\n",
       "      <td>1.0</td>\n",
       "      <td>0.0</td>\n",
       "      <td>9.0</td>\n",
       "      <td>4.0</td>\n",
       "      <td>3.0</td>\n",
       "    </tr>\n",
       "    <tr>\n",
       "      <th>1</th>\n",
       "      <td>0.0</td>\n",
       "      <td>0.0</td>\n",
       "      <td>0.0</td>\n",
       "      <td>0.0</td>\n",
       "      <td>25.0</td>\n",
       "      <td>1.0</td>\n",
       "      <td>0.0</td>\n",
       "      <td>0.0</td>\n",
       "      <td>1.0</td>\n",
       "      <td>0.0</td>\n",
       "      <td>...</td>\n",
       "      <td>0.0</td>\n",
       "      <td>1.0</td>\n",
       "      <td>3.0</td>\n",
       "      <td>0.0</td>\n",
       "      <td>0.0</td>\n",
       "      <td>0.0</td>\n",
       "      <td>0.0</td>\n",
       "      <td>7.0</td>\n",
       "      <td>6.0</td>\n",
       "      <td>1.0</td>\n",
       "    </tr>\n",
       "    <tr>\n",
       "      <th>2</th>\n",
       "      <td>0.0</td>\n",
       "      <td>1.0</td>\n",
       "      <td>1.0</td>\n",
       "      <td>1.0</td>\n",
       "      <td>28.0</td>\n",
       "      <td>0.0</td>\n",
       "      <td>0.0</td>\n",
       "      <td>0.0</td>\n",
       "      <td>0.0</td>\n",
       "      <td>1.0</td>\n",
       "      <td>...</td>\n",
       "      <td>1.0</td>\n",
       "      <td>1.0</td>\n",
       "      <td>5.0</td>\n",
       "      <td>30.0</td>\n",
       "      <td>30.0</td>\n",
       "      <td>1.0</td>\n",
       "      <td>0.0</td>\n",
       "      <td>9.0</td>\n",
       "      <td>4.0</td>\n",
       "      <td>8.0</td>\n",
       "    </tr>\n",
       "    <tr>\n",
       "      <th>3</th>\n",
       "      <td>0.0</td>\n",
       "      <td>1.0</td>\n",
       "      <td>0.0</td>\n",
       "      <td>1.0</td>\n",
       "      <td>27.0</td>\n",
       "      <td>0.0</td>\n",
       "      <td>0.0</td>\n",
       "      <td>0.0</td>\n",
       "      <td>1.0</td>\n",
       "      <td>1.0</td>\n",
       "      <td>...</td>\n",
       "      <td>1.0</td>\n",
       "      <td>0.0</td>\n",
       "      <td>2.0</td>\n",
       "      <td>0.0</td>\n",
       "      <td>0.0</td>\n",
       "      <td>0.0</td>\n",
       "      <td>0.0</td>\n",
       "      <td>11.0</td>\n",
       "      <td>3.0</td>\n",
       "      <td>6.0</td>\n",
       "    </tr>\n",
       "    <tr>\n",
       "      <th>4</th>\n",
       "      <td>0.0</td>\n",
       "      <td>1.0</td>\n",
       "      <td>1.0</td>\n",
       "      <td>1.0</td>\n",
       "      <td>24.0</td>\n",
       "      <td>0.0</td>\n",
       "      <td>0.0</td>\n",
       "      <td>0.0</td>\n",
       "      <td>1.0</td>\n",
       "      <td>1.0</td>\n",
       "      <td>...</td>\n",
       "      <td>1.0</td>\n",
       "      <td>0.0</td>\n",
       "      <td>2.0</td>\n",
       "      <td>3.0</td>\n",
       "      <td>0.0</td>\n",
       "      <td>0.0</td>\n",
       "      <td>0.0</td>\n",
       "      <td>11.0</td>\n",
       "      <td>5.0</td>\n",
       "      <td>4.0</td>\n",
       "    </tr>\n",
       "  </tbody>\n",
       "</table>\n",
       "<p>5 rows × 22 columns</p>\n",
       "</div>"
      ],
      "text/plain": [
       "   Diabetes_012  HighBP  HighChol  CholCheck   BMI  Smoker  Stroke  \\\n",
       "0           0.0     1.0       1.0        1.0  40.0     1.0     0.0   \n",
       "1           0.0     0.0       0.0        0.0  25.0     1.0     0.0   \n",
       "2           0.0     1.0       1.0        1.0  28.0     0.0     0.0   \n",
       "3           0.0     1.0       0.0        1.0  27.0     0.0     0.0   \n",
       "4           0.0     1.0       1.0        1.0  24.0     0.0     0.0   \n",
       "\n",
       "   HeartDiseaseorAttack  PhysActivity  Fruits  ...  AnyHealthcare  \\\n",
       "0                   0.0           0.0     0.0  ...            1.0   \n",
       "1                   0.0           1.0     0.0  ...            0.0   \n",
       "2                   0.0           0.0     1.0  ...            1.0   \n",
       "3                   0.0           1.0     1.0  ...            1.0   \n",
       "4                   0.0           1.0     1.0  ...            1.0   \n",
       "\n",
       "   NoDocbcCost  GenHlth  MentHlth  PhysHlth  DiffWalk  Sex   Age  Education  \\\n",
       "0          0.0      5.0      18.0      15.0       1.0  0.0   9.0        4.0   \n",
       "1          1.0      3.0       0.0       0.0       0.0  0.0   7.0        6.0   \n",
       "2          1.0      5.0      30.0      30.0       1.0  0.0   9.0        4.0   \n",
       "3          0.0      2.0       0.0       0.0       0.0  0.0  11.0        3.0   \n",
       "4          0.0      2.0       3.0       0.0       0.0  0.0  11.0        5.0   \n",
       "\n",
       "   Income  \n",
       "0     3.0  \n",
       "1     1.0  \n",
       "2     8.0  \n",
       "3     6.0  \n",
       "4     4.0  \n",
       "\n",
       "[5 rows x 22 columns]"
      ]
     },
     "execution_count": 2,
     "metadata": {},
     "output_type": "execute_result"
    }
   ],
   "source": [
    "data = pd.read_csv(r'C:\\Users\\ARA\\Desktop\\Data Science\\diabetes.csv')\n",
    "\n",
    "diabetes=data.copy()\n",
    "\n",
    "diabetes.head()"
   ]
  },
  {
   "cell_type": "code",
   "execution_count": 3,
   "id": "8d7f3c03",
   "metadata": {},
   "outputs": [],
   "source": [
    "pd.set_option('display.max_columns', None)\n",
    "pd.set_option('display.max_rows', 200)"
   ]
  },
  {
   "cell_type": "markdown",
   "id": "0483f307",
   "metadata": {
    "scrolled": true
   },
   "source": [
    "## Inspect Data"
   ]
  },
  {
   "cell_type": "code",
   "execution_count": 4,
   "id": "e85d9660",
   "metadata": {},
   "outputs": [
    {
     "data": {
      "text/plain": [
       "Index(['Diabetes_012', 'HighBP', 'HighChol', 'CholCheck', 'BMI', 'Smoker',\n",
       "       'Stroke', 'HeartDiseaseorAttack', 'PhysActivity', 'Fruits', 'Veggies',\n",
       "       'HvyAlcoholConsump', 'AnyHealthcare', 'NoDocbcCost', 'GenHlth',\n",
       "       'MentHlth', 'PhysHlth', 'DiffWalk', 'Sex', 'Age', 'Education',\n",
       "       'Income'],\n",
       "      dtype='object')"
      ]
     },
     "execution_count": 4,
     "metadata": {},
     "output_type": "execute_result"
    }
   ],
   "source": [
    "diabetes.columns\n",
    "\n",
    "\n"
   ]
  },
  {
   "cell_type": "markdown",
   "id": "6e7a387b",
   "metadata": {},
   "source": [
    "Some of the column names were renamed below to make the data easier to read(e.g. \"CholCheck\" became \"Chol_Check\")."
   ]
  },
  {
   "cell_type": "code",
   "execution_count": 5,
   "id": "d66bc292",
   "metadata": {},
   "outputs": [
    {
     "data": {
      "text/html": [
       "<div>\n",
       "<style scoped>\n",
       "    .dataframe tbody tr th:only-of-type {\n",
       "        vertical-align: middle;\n",
       "    }\n",
       "\n",
       "    .dataframe tbody tr th {\n",
       "        vertical-align: top;\n",
       "    }\n",
       "\n",
       "    .dataframe thead th {\n",
       "        text-align: right;\n",
       "    }\n",
       "</style>\n",
       "<table border=\"1\" class=\"dataframe\">\n",
       "  <thead>\n",
       "    <tr style=\"text-align: right;\">\n",
       "      <th></th>\n",
       "      <th>Diabetes</th>\n",
       "      <th>High_BP</th>\n",
       "      <th>High_Chol</th>\n",
       "      <th>Chol_Check</th>\n",
       "      <th>BMI</th>\n",
       "      <th>Smoker</th>\n",
       "      <th>Stroke</th>\n",
       "      <th>Heart_Disease_Attack</th>\n",
       "      <th>Fitness</th>\n",
       "      <th>Fruits</th>\n",
       "      <th>Vegetables</th>\n",
       "      <th>Alcohol</th>\n",
       "      <th>Healthcare</th>\n",
       "      <th>No_Doctor_Cost</th>\n",
       "      <th>General_Health</th>\n",
       "      <th>Mental_Health</th>\n",
       "      <th>Physical_Health</th>\n",
       "      <th>Diff_Walk</th>\n",
       "      <th>Sex</th>\n",
       "      <th>Age</th>\n",
       "      <th>Education</th>\n",
       "      <th>Income</th>\n",
       "    </tr>\n",
       "  </thead>\n",
       "  <tbody>\n",
       "    <tr>\n",
       "      <th>0</th>\n",
       "      <td>0.0</td>\n",
       "      <td>1.0</td>\n",
       "      <td>1.0</td>\n",
       "      <td>1.0</td>\n",
       "      <td>40.0</td>\n",
       "      <td>1.0</td>\n",
       "      <td>0.0</td>\n",
       "      <td>0.0</td>\n",
       "      <td>0.0</td>\n",
       "      <td>0.0</td>\n",
       "      <td>1.0</td>\n",
       "      <td>0.0</td>\n",
       "      <td>1.0</td>\n",
       "      <td>0.0</td>\n",
       "      <td>5.0</td>\n",
       "      <td>18.0</td>\n",
       "      <td>15.0</td>\n",
       "      <td>1.0</td>\n",
       "      <td>0.0</td>\n",
       "      <td>9.0</td>\n",
       "      <td>4.0</td>\n",
       "      <td>3.0</td>\n",
       "    </tr>\n",
       "    <tr>\n",
       "      <th>1</th>\n",
       "      <td>0.0</td>\n",
       "      <td>0.0</td>\n",
       "      <td>0.0</td>\n",
       "      <td>0.0</td>\n",
       "      <td>25.0</td>\n",
       "      <td>1.0</td>\n",
       "      <td>0.0</td>\n",
       "      <td>0.0</td>\n",
       "      <td>1.0</td>\n",
       "      <td>0.0</td>\n",
       "      <td>0.0</td>\n",
       "      <td>0.0</td>\n",
       "      <td>0.0</td>\n",
       "      <td>1.0</td>\n",
       "      <td>3.0</td>\n",
       "      <td>0.0</td>\n",
       "      <td>0.0</td>\n",
       "      <td>0.0</td>\n",
       "      <td>0.0</td>\n",
       "      <td>7.0</td>\n",
       "      <td>6.0</td>\n",
       "      <td>1.0</td>\n",
       "    </tr>\n",
       "    <tr>\n",
       "      <th>2</th>\n",
       "      <td>0.0</td>\n",
       "      <td>1.0</td>\n",
       "      <td>1.0</td>\n",
       "      <td>1.0</td>\n",
       "      <td>28.0</td>\n",
       "      <td>0.0</td>\n",
       "      <td>0.0</td>\n",
       "      <td>0.0</td>\n",
       "      <td>0.0</td>\n",
       "      <td>1.0</td>\n",
       "      <td>0.0</td>\n",
       "      <td>0.0</td>\n",
       "      <td>1.0</td>\n",
       "      <td>1.0</td>\n",
       "      <td>5.0</td>\n",
       "      <td>30.0</td>\n",
       "      <td>30.0</td>\n",
       "      <td>1.0</td>\n",
       "      <td>0.0</td>\n",
       "      <td>9.0</td>\n",
       "      <td>4.0</td>\n",
       "      <td>8.0</td>\n",
       "    </tr>\n",
       "    <tr>\n",
       "      <th>3</th>\n",
       "      <td>0.0</td>\n",
       "      <td>1.0</td>\n",
       "      <td>0.0</td>\n",
       "      <td>1.0</td>\n",
       "      <td>27.0</td>\n",
       "      <td>0.0</td>\n",
       "      <td>0.0</td>\n",
       "      <td>0.0</td>\n",
       "      <td>1.0</td>\n",
       "      <td>1.0</td>\n",
       "      <td>1.0</td>\n",
       "      <td>0.0</td>\n",
       "      <td>1.0</td>\n",
       "      <td>0.0</td>\n",
       "      <td>2.0</td>\n",
       "      <td>0.0</td>\n",
       "      <td>0.0</td>\n",
       "      <td>0.0</td>\n",
       "      <td>0.0</td>\n",
       "      <td>11.0</td>\n",
       "      <td>3.0</td>\n",
       "      <td>6.0</td>\n",
       "    </tr>\n",
       "    <tr>\n",
       "      <th>4</th>\n",
       "      <td>0.0</td>\n",
       "      <td>1.0</td>\n",
       "      <td>1.0</td>\n",
       "      <td>1.0</td>\n",
       "      <td>24.0</td>\n",
       "      <td>0.0</td>\n",
       "      <td>0.0</td>\n",
       "      <td>0.0</td>\n",
       "      <td>1.0</td>\n",
       "      <td>1.0</td>\n",
       "      <td>1.0</td>\n",
       "      <td>0.0</td>\n",
       "      <td>1.0</td>\n",
       "      <td>0.0</td>\n",
       "      <td>2.0</td>\n",
       "      <td>3.0</td>\n",
       "      <td>0.0</td>\n",
       "      <td>0.0</td>\n",
       "      <td>0.0</td>\n",
       "      <td>11.0</td>\n",
       "      <td>5.0</td>\n",
       "      <td>4.0</td>\n",
       "    </tr>\n",
       "    <tr>\n",
       "      <th>...</th>\n",
       "      <td>...</td>\n",
       "      <td>...</td>\n",
       "      <td>...</td>\n",
       "      <td>...</td>\n",
       "      <td>...</td>\n",
       "      <td>...</td>\n",
       "      <td>...</td>\n",
       "      <td>...</td>\n",
       "      <td>...</td>\n",
       "      <td>...</td>\n",
       "      <td>...</td>\n",
       "      <td>...</td>\n",
       "      <td>...</td>\n",
       "      <td>...</td>\n",
       "      <td>...</td>\n",
       "      <td>...</td>\n",
       "      <td>...</td>\n",
       "      <td>...</td>\n",
       "      <td>...</td>\n",
       "      <td>...</td>\n",
       "      <td>...</td>\n",
       "      <td>...</td>\n",
       "    </tr>\n",
       "    <tr>\n",
       "      <th>253675</th>\n",
       "      <td>0.0</td>\n",
       "      <td>1.0</td>\n",
       "      <td>1.0</td>\n",
       "      <td>1.0</td>\n",
       "      <td>45.0</td>\n",
       "      <td>0.0</td>\n",
       "      <td>0.0</td>\n",
       "      <td>0.0</td>\n",
       "      <td>0.0</td>\n",
       "      <td>1.0</td>\n",
       "      <td>1.0</td>\n",
       "      <td>0.0</td>\n",
       "      <td>1.0</td>\n",
       "      <td>0.0</td>\n",
       "      <td>3.0</td>\n",
       "      <td>0.0</td>\n",
       "      <td>5.0</td>\n",
       "      <td>0.0</td>\n",
       "      <td>1.0</td>\n",
       "      <td>5.0</td>\n",
       "      <td>6.0</td>\n",
       "      <td>7.0</td>\n",
       "    </tr>\n",
       "    <tr>\n",
       "      <th>253676</th>\n",
       "      <td>2.0</td>\n",
       "      <td>1.0</td>\n",
       "      <td>1.0</td>\n",
       "      <td>1.0</td>\n",
       "      <td>18.0</td>\n",
       "      <td>0.0</td>\n",
       "      <td>0.0</td>\n",
       "      <td>0.0</td>\n",
       "      <td>0.0</td>\n",
       "      <td>0.0</td>\n",
       "      <td>0.0</td>\n",
       "      <td>0.0</td>\n",
       "      <td>1.0</td>\n",
       "      <td>0.0</td>\n",
       "      <td>4.0</td>\n",
       "      <td>0.0</td>\n",
       "      <td>0.0</td>\n",
       "      <td>1.0</td>\n",
       "      <td>0.0</td>\n",
       "      <td>11.0</td>\n",
       "      <td>2.0</td>\n",
       "      <td>4.0</td>\n",
       "    </tr>\n",
       "    <tr>\n",
       "      <th>253677</th>\n",
       "      <td>0.0</td>\n",
       "      <td>0.0</td>\n",
       "      <td>0.0</td>\n",
       "      <td>1.0</td>\n",
       "      <td>28.0</td>\n",
       "      <td>0.0</td>\n",
       "      <td>0.0</td>\n",
       "      <td>0.0</td>\n",
       "      <td>1.0</td>\n",
       "      <td>1.0</td>\n",
       "      <td>0.0</td>\n",
       "      <td>0.0</td>\n",
       "      <td>1.0</td>\n",
       "      <td>0.0</td>\n",
       "      <td>1.0</td>\n",
       "      <td>0.0</td>\n",
       "      <td>0.0</td>\n",
       "      <td>0.0</td>\n",
       "      <td>0.0</td>\n",
       "      <td>2.0</td>\n",
       "      <td>5.0</td>\n",
       "      <td>2.0</td>\n",
       "    </tr>\n",
       "    <tr>\n",
       "      <th>253678</th>\n",
       "      <td>0.0</td>\n",
       "      <td>1.0</td>\n",
       "      <td>0.0</td>\n",
       "      <td>1.0</td>\n",
       "      <td>23.0</td>\n",
       "      <td>0.0</td>\n",
       "      <td>0.0</td>\n",
       "      <td>0.0</td>\n",
       "      <td>0.0</td>\n",
       "      <td>1.0</td>\n",
       "      <td>1.0</td>\n",
       "      <td>0.0</td>\n",
       "      <td>1.0</td>\n",
       "      <td>0.0</td>\n",
       "      <td>3.0</td>\n",
       "      <td>0.0</td>\n",
       "      <td>0.0</td>\n",
       "      <td>0.0</td>\n",
       "      <td>1.0</td>\n",
       "      <td>7.0</td>\n",
       "      <td>5.0</td>\n",
       "      <td>1.0</td>\n",
       "    </tr>\n",
       "    <tr>\n",
       "      <th>253679</th>\n",
       "      <td>2.0</td>\n",
       "      <td>1.0</td>\n",
       "      <td>1.0</td>\n",
       "      <td>1.0</td>\n",
       "      <td>25.0</td>\n",
       "      <td>0.0</td>\n",
       "      <td>0.0</td>\n",
       "      <td>1.0</td>\n",
       "      <td>1.0</td>\n",
       "      <td>1.0</td>\n",
       "      <td>0.0</td>\n",
       "      <td>0.0</td>\n",
       "      <td>1.0</td>\n",
       "      <td>0.0</td>\n",
       "      <td>2.0</td>\n",
       "      <td>0.0</td>\n",
       "      <td>0.0</td>\n",
       "      <td>0.0</td>\n",
       "      <td>0.0</td>\n",
       "      <td>9.0</td>\n",
       "      <td>6.0</td>\n",
       "      <td>2.0</td>\n",
       "    </tr>\n",
       "  </tbody>\n",
       "</table>\n",
       "<p>253680 rows × 22 columns</p>\n",
       "</div>"
      ],
      "text/plain": [
       "        Diabetes  High_BP  High_Chol  Chol_Check   BMI  Smoker  Stroke  \\\n",
       "0            0.0      1.0        1.0         1.0  40.0     1.0     0.0   \n",
       "1            0.0      0.0        0.0         0.0  25.0     1.0     0.0   \n",
       "2            0.0      1.0        1.0         1.0  28.0     0.0     0.0   \n",
       "3            0.0      1.0        0.0         1.0  27.0     0.0     0.0   \n",
       "4            0.0      1.0        1.0         1.0  24.0     0.0     0.0   \n",
       "...          ...      ...        ...         ...   ...     ...     ...   \n",
       "253675       0.0      1.0        1.0         1.0  45.0     0.0     0.0   \n",
       "253676       2.0      1.0        1.0         1.0  18.0     0.0     0.0   \n",
       "253677       0.0      0.0        0.0         1.0  28.0     0.0     0.0   \n",
       "253678       0.0      1.0        0.0         1.0  23.0     0.0     0.0   \n",
       "253679       2.0      1.0        1.0         1.0  25.0     0.0     0.0   \n",
       "\n",
       "        Heart_Disease_Attack  Fitness  Fruits  Vegetables  Alcohol  \\\n",
       "0                        0.0      0.0     0.0         1.0      0.0   \n",
       "1                        0.0      1.0     0.0         0.0      0.0   \n",
       "2                        0.0      0.0     1.0         0.0      0.0   \n",
       "3                        0.0      1.0     1.0         1.0      0.0   \n",
       "4                        0.0      1.0     1.0         1.0      0.0   \n",
       "...                      ...      ...     ...         ...      ...   \n",
       "253675                   0.0      0.0     1.0         1.0      0.0   \n",
       "253676                   0.0      0.0     0.0         0.0      0.0   \n",
       "253677                   0.0      1.0     1.0         0.0      0.0   \n",
       "253678                   0.0      0.0     1.0         1.0      0.0   \n",
       "253679                   1.0      1.0     1.0         0.0      0.0   \n",
       "\n",
       "        Healthcare  No_Doctor_Cost  General_Health  Mental_Health  \\\n",
       "0              1.0             0.0             5.0           18.0   \n",
       "1              0.0             1.0             3.0            0.0   \n",
       "2              1.0             1.0             5.0           30.0   \n",
       "3              1.0             0.0             2.0            0.0   \n",
       "4              1.0             0.0             2.0            3.0   \n",
       "...            ...             ...             ...            ...   \n",
       "253675         1.0             0.0             3.0            0.0   \n",
       "253676         1.0             0.0             4.0            0.0   \n",
       "253677         1.0             0.0             1.0            0.0   \n",
       "253678         1.0             0.0             3.0            0.0   \n",
       "253679         1.0             0.0             2.0            0.0   \n",
       "\n",
       "        Physical_Health  Diff_Walk  Sex   Age  Education  Income  \n",
       "0                  15.0        1.0  0.0   9.0        4.0     3.0  \n",
       "1                   0.0        0.0  0.0   7.0        6.0     1.0  \n",
       "2                  30.0        1.0  0.0   9.0        4.0     8.0  \n",
       "3                   0.0        0.0  0.0  11.0        3.0     6.0  \n",
       "4                   0.0        0.0  0.0  11.0        5.0     4.0  \n",
       "...                 ...        ...  ...   ...        ...     ...  \n",
       "253675              5.0        0.0  1.0   5.0        6.0     7.0  \n",
       "253676              0.0        1.0  0.0  11.0        2.0     4.0  \n",
       "253677              0.0        0.0  0.0   2.0        5.0     2.0  \n",
       "253678              0.0        0.0  1.0   7.0        5.0     1.0  \n",
       "253679              0.0        0.0  0.0   9.0        6.0     2.0  \n",
       "\n",
       "[253680 rows x 22 columns]"
      ]
     },
     "execution_count": 5,
     "metadata": {},
     "output_type": "execute_result"
    }
   ],
   "source": [
    "diabetes.columns=['Diabetes', 'High_BP', 'High_Chol', 'Chol_Check', 'BMI', 'Smoker',\n",
    "       'Stroke', 'Heart_Disease_Attack', 'Fitness', 'Fruits', 'Vegetables',\n",
    "       'Alcohol', 'Healthcare', 'No_Doctor_Cost', 'General_Health',\n",
    "       'Mental_Health', 'Physical_Health', 'Diff_Walk', 'Sex', 'Age', 'Education',\n",
    "       'Income']\n",
    "diabetes.columns\n",
    "diabetes"
   ]
  },
  {
   "cell_type": "code",
   "execution_count": 6,
   "id": "c9258b2f",
   "metadata": {},
   "outputs": [
    {
     "name": "stdout",
     "output_type": "stream",
     "text": [
      "______________ SHAPE ______________\n",
      "Rows: 253680\n",
      "Columns: 22\n",
      "______________ TYPES ______________\n",
      "Diabetes                float64\n",
      "High_BP                 float64\n",
      "High_Chol               float64\n",
      "Chol_Check              float64\n",
      "BMI                     float64\n",
      "Smoker                  float64\n",
      "Stroke                  float64\n",
      "Heart_Disease_Attack    float64\n",
      "Fitness                 float64\n",
      "Fruits                  float64\n",
      "Vegetables              float64\n",
      "Alcohol                 float64\n",
      "Healthcare              float64\n",
      "No_Doctor_Cost          float64\n",
      "General_Health          float64\n",
      "Mental_Health           float64\n",
      "Physical_Health         float64\n",
      "Diff_Walk               float64\n",
      "Sex                     float64\n",
      "Age                     float64\n",
      "Education               float64\n",
      "Income                  float64\n",
      "dtype: object\n",
      "__________ MISSING VALUES _________\n",
      "Diabetes                0\n",
      "High_BP                 0\n",
      "High_Chol               0\n",
      "Chol_Check              0\n",
      "BMI                     0\n",
      "Smoker                  0\n",
      "Stroke                  0\n",
      "Heart_Disease_Attack    0\n",
      "Fitness                 0\n",
      "Fruits                  0\n",
      "Vegetables              0\n",
      "Alcohol                 0\n",
      "Healthcare              0\n",
      "No_Doctor_Cost          0\n",
      "General_Health          0\n",
      "Mental_Health           0\n",
      "Physical_Health         0\n",
      "Diff_Walk               0\n",
      "Sex                     0\n",
      "Age                     0\n",
      "Education               0\n",
      "Income                  0\n",
      "dtype: int64\n",
      "________ DUPLICATED VALUES ________\n",
      "23899\n"
     ]
    }
   ],
   "source": [
    "def check_df(dataframe, head=5):\n",
    "    \n",
    "    print(\" SHAPE \".center(35,'_'))\n",
    "    print('Rows: {}'.format(dataframe.shape[0]))\n",
    "    print('Columns: {}'.format(dataframe.shape[1]))\n",
    "    print(\" TYPES \".center(35,'_'))\n",
    "    print(dataframe.dtypes)\n",
    "    print(' MISSING VALUES '.center(35,'_'))\n",
    "    print(dataframe.isnull().sum())\n",
    "    print(' DUPLICATED VALUES '.center(35,'_'))\n",
    "    print(dataframe.duplicated().sum())\n",
    "\n",
    "check_df(diabetes)"
   ]
  },
  {
   "cell_type": "markdown",
   "id": "76dd6c73",
   "metadata": {},
   "source": [
    "Most people surveyed don't have diabetes."
   ]
  },
  {
   "cell_type": "code",
   "execution_count": 7,
   "id": "7f18d85f",
   "metadata": {
    "scrolled": true
   },
   "outputs": [
    {
     "data": {
      "text/plain": [
       "0.0    213703\n",
       "2.0     35346\n",
       "1.0      4631\n",
       "Name: Diabetes, dtype: int64"
      ]
     },
     "execution_count": 7,
     "metadata": {},
     "output_type": "execute_result"
    }
   ],
   "source": [
    "diabetes.Diabetes.value_counts()"
   ]
  },
  {
   "cell_type": "markdown",
   "id": "9a1d4220",
   "metadata": {},
   "source": [
    "## Summarize Initial Findings\n",
    "\n",
    "There are 253680 rows and 22 columns.\n",
    "\n",
    "* There are no missing values (this is a cleaned dataset). However, there are duplicate values that need to be removed.\n",
    "\n",
    "* For this project, we want to focus on healthy habits that are thought to reduce the likelihood of diabetes (e.g. 'Veggies','Smoker','Fitness','Fruits', 'Alchohol_Consumption'). We will be droppping non-relevant columns.\n",
    "\n",
    "\n"
   ]
  },
  {
   "cell_type": "markdown",
   "id": "51ec1c50",
   "metadata": {},
   "source": [
    "#  Data Cleaning"
   ]
  },
  {
   "cell_type": "markdown",
   "id": "fa71568e",
   "metadata": {},
   "source": [
    "## Removing Duplicate Rows"
   ]
  },
  {
   "cell_type": "code",
   "execution_count": 8,
   "id": "34bec39b",
   "metadata": {},
   "outputs": [],
   "source": [
    "diabetes.drop_duplicates(keep='first',inplace=True)"
   ]
  },
  {
   "cell_type": "code",
   "execution_count": 9,
   "id": "ddb4b85e",
   "metadata": {},
   "outputs": [
    {
     "data": {
      "text/plain": [
       "(229781, 22)"
      ]
     },
     "execution_count": 9,
     "metadata": {},
     "output_type": "execute_result"
    }
   ],
   "source": [
    "diabetes.shape"
   ]
  },
  {
   "cell_type": "markdown",
   "id": "ed525a45",
   "metadata": {},
   "source": [
    "## Removing Extra Columns"
   ]
  },
  {
   "cell_type": "code",
   "execution_count": 10,
   "id": "7107487f",
   "metadata": {},
   "outputs": [
    {
     "data": {
      "text/plain": [
       "Index(['Diabetes', 'High_BP', 'High_Chol', 'Chol_Check', 'BMI', 'Smoker',\n",
       "       'Stroke', 'Heart_Disease_Attack', 'Fitness', 'Fruits', 'Vegetables',\n",
       "       'Alcohol', 'Healthcare', 'No_Doctor_Cost', 'General_Health',\n",
       "       'Mental_Health', 'Physical_Health', 'Diff_Walk', 'Sex', 'Age',\n",
       "       'Education', 'Income'],\n",
       "      dtype='object')"
      ]
     },
     "execution_count": 10,
     "metadata": {},
     "output_type": "execute_result"
    }
   ],
   "source": [
    "diabetes.columns"
   ]
  },
  {
   "cell_type": "code",
   "execution_count": 11,
   "id": "e9d166fc",
   "metadata": {},
   "outputs": [],
   "source": [
    "diabetes.drop(['High_BP', 'High_Chol', 'Chol_Check',\n",
    "       'Stroke', 'Heart_Disease_Attack', 'Healthcare', 'No_Doctor_Cost', 'General_Health',\n",
    "       'Mental_Health', 'Diff_Walk',\n",
    "       'Education', 'Income','Physical_Health'], inplace=True, axis=1)"
   ]
  },
  {
   "cell_type": "code",
   "execution_count": 12,
   "id": "f16311b4",
   "metadata": {
    "scrolled": true
   },
   "outputs": [
    {
     "data": {
      "text/html": [
       "<div>\n",
       "<style scoped>\n",
       "    .dataframe tbody tr th:only-of-type {\n",
       "        vertical-align: middle;\n",
       "    }\n",
       "\n",
       "    .dataframe tbody tr th {\n",
       "        vertical-align: top;\n",
       "    }\n",
       "\n",
       "    .dataframe thead th {\n",
       "        text-align: right;\n",
       "    }\n",
       "</style>\n",
       "<table border=\"1\" class=\"dataframe\">\n",
       "  <thead>\n",
       "    <tr style=\"text-align: right;\">\n",
       "      <th></th>\n",
       "      <th>Diabetes</th>\n",
       "      <th>BMI</th>\n",
       "      <th>Smoker</th>\n",
       "      <th>Fitness</th>\n",
       "      <th>Fruits</th>\n",
       "      <th>Vegetables</th>\n",
       "      <th>Alcohol</th>\n",
       "      <th>Sex</th>\n",
       "      <th>Age</th>\n",
       "    </tr>\n",
       "  </thead>\n",
       "  <tbody>\n",
       "    <tr>\n",
       "      <th>0</th>\n",
       "      <td>0.0</td>\n",
       "      <td>40.0</td>\n",
       "      <td>1.0</td>\n",
       "      <td>0.0</td>\n",
       "      <td>0.0</td>\n",
       "      <td>1.0</td>\n",
       "      <td>0.0</td>\n",
       "      <td>0.0</td>\n",
       "      <td>9.0</td>\n",
       "    </tr>\n",
       "    <tr>\n",
       "      <th>1</th>\n",
       "      <td>0.0</td>\n",
       "      <td>25.0</td>\n",
       "      <td>1.0</td>\n",
       "      <td>1.0</td>\n",
       "      <td>0.0</td>\n",
       "      <td>0.0</td>\n",
       "      <td>0.0</td>\n",
       "      <td>0.0</td>\n",
       "      <td>7.0</td>\n",
       "    </tr>\n",
       "    <tr>\n",
       "      <th>2</th>\n",
       "      <td>0.0</td>\n",
       "      <td>28.0</td>\n",
       "      <td>0.0</td>\n",
       "      <td>0.0</td>\n",
       "      <td>1.0</td>\n",
       "      <td>0.0</td>\n",
       "      <td>0.0</td>\n",
       "      <td>0.0</td>\n",
       "      <td>9.0</td>\n",
       "    </tr>\n",
       "    <tr>\n",
       "      <th>3</th>\n",
       "      <td>0.0</td>\n",
       "      <td>27.0</td>\n",
       "      <td>0.0</td>\n",
       "      <td>1.0</td>\n",
       "      <td>1.0</td>\n",
       "      <td>1.0</td>\n",
       "      <td>0.0</td>\n",
       "      <td>0.0</td>\n",
       "      <td>11.0</td>\n",
       "    </tr>\n",
       "    <tr>\n",
       "      <th>4</th>\n",
       "      <td>0.0</td>\n",
       "      <td>24.0</td>\n",
       "      <td>0.0</td>\n",
       "      <td>1.0</td>\n",
       "      <td>1.0</td>\n",
       "      <td>1.0</td>\n",
       "      <td>0.0</td>\n",
       "      <td>0.0</td>\n",
       "      <td>11.0</td>\n",
       "    </tr>\n",
       "  </tbody>\n",
       "</table>\n",
       "</div>"
      ],
      "text/plain": [
       "   Diabetes   BMI  Smoker  Fitness  Fruits  Vegetables  Alcohol  Sex   Age\n",
       "0       0.0  40.0     1.0      0.0     0.0         1.0      0.0  0.0   9.0\n",
       "1       0.0  25.0     1.0      1.0     0.0         0.0      0.0  0.0   7.0\n",
       "2       0.0  28.0     0.0      0.0     1.0         0.0      0.0  0.0   9.0\n",
       "3       0.0  27.0     0.0      1.0     1.0         1.0      0.0  0.0  11.0\n",
       "4       0.0  24.0     0.0      1.0     1.0         1.0      0.0  0.0  11.0"
      ]
     },
     "execution_count": 12,
     "metadata": {},
     "output_type": "execute_result"
    }
   ],
   "source": [
    "diabetes.head()"
   ]
  },
  {
   "cell_type": "code",
   "execution_count": 13,
   "id": "2c51f358",
   "metadata": {},
   "outputs": [
    {
     "data": {
      "text/plain": [
       "(229781, 9)"
      ]
     },
     "execution_count": 13,
     "metadata": {},
     "output_type": "execute_result"
    }
   ],
   "source": [
    "diabetes.shape"
   ]
  },
  {
   "cell_type": "markdown",
   "id": "6c7f3950",
   "metadata": {},
   "source": [
    "Let's go ahead and re-order the dataframe in the following order: demographics, diabetes status, health behaviors, and risky behaviors."
   ]
  },
  {
   "cell_type": "code",
   "execution_count": 14,
   "id": "d0cd4b3e",
   "metadata": {},
   "outputs": [],
   "source": [
    "diabetes2=diabetes[['Sex', 'Age','BMI', 'Diabetes', 'Fitness', 'Fruits','Vegetables', 'Alcohol', 'Smoker']]"
   ]
  },
  {
   "cell_type": "code",
   "execution_count": 15,
   "id": "76a29646",
   "metadata": {},
   "outputs": [
    {
     "data": {
      "text/html": [
       "<div>\n",
       "<style scoped>\n",
       "    .dataframe tbody tr th:only-of-type {\n",
       "        vertical-align: middle;\n",
       "    }\n",
       "\n",
       "    .dataframe tbody tr th {\n",
       "        vertical-align: top;\n",
       "    }\n",
       "\n",
       "    .dataframe thead th {\n",
       "        text-align: right;\n",
       "    }\n",
       "</style>\n",
       "<table border=\"1\" class=\"dataframe\">\n",
       "  <thead>\n",
       "    <tr style=\"text-align: right;\">\n",
       "      <th></th>\n",
       "      <th>Sex</th>\n",
       "      <th>Age</th>\n",
       "      <th>BMI</th>\n",
       "      <th>Diabetes</th>\n",
       "      <th>Fitness</th>\n",
       "      <th>Fruits</th>\n",
       "      <th>Vegetables</th>\n",
       "      <th>Alcohol</th>\n",
       "      <th>Smoker</th>\n",
       "    </tr>\n",
       "  </thead>\n",
       "  <tbody>\n",
       "    <tr>\n",
       "      <th>0</th>\n",
       "      <td>0.0</td>\n",
       "      <td>9.0</td>\n",
       "      <td>40.0</td>\n",
       "      <td>0.0</td>\n",
       "      <td>0.0</td>\n",
       "      <td>0.0</td>\n",
       "      <td>1.0</td>\n",
       "      <td>0.0</td>\n",
       "      <td>1.0</td>\n",
       "    </tr>\n",
       "    <tr>\n",
       "      <th>1</th>\n",
       "      <td>0.0</td>\n",
       "      <td>7.0</td>\n",
       "      <td>25.0</td>\n",
       "      <td>0.0</td>\n",
       "      <td>1.0</td>\n",
       "      <td>0.0</td>\n",
       "      <td>0.0</td>\n",
       "      <td>0.0</td>\n",
       "      <td>1.0</td>\n",
       "    </tr>\n",
       "    <tr>\n",
       "      <th>2</th>\n",
       "      <td>0.0</td>\n",
       "      <td>9.0</td>\n",
       "      <td>28.0</td>\n",
       "      <td>0.0</td>\n",
       "      <td>0.0</td>\n",
       "      <td>1.0</td>\n",
       "      <td>0.0</td>\n",
       "      <td>0.0</td>\n",
       "      <td>0.0</td>\n",
       "    </tr>\n",
       "    <tr>\n",
       "      <th>3</th>\n",
       "      <td>0.0</td>\n",
       "      <td>11.0</td>\n",
       "      <td>27.0</td>\n",
       "      <td>0.0</td>\n",
       "      <td>1.0</td>\n",
       "      <td>1.0</td>\n",
       "      <td>1.0</td>\n",
       "      <td>0.0</td>\n",
       "      <td>0.0</td>\n",
       "    </tr>\n",
       "    <tr>\n",
       "      <th>4</th>\n",
       "      <td>0.0</td>\n",
       "      <td>11.0</td>\n",
       "      <td>24.0</td>\n",
       "      <td>0.0</td>\n",
       "      <td>1.0</td>\n",
       "      <td>1.0</td>\n",
       "      <td>1.0</td>\n",
       "      <td>0.0</td>\n",
       "      <td>0.0</td>\n",
       "    </tr>\n",
       "  </tbody>\n",
       "</table>\n",
       "</div>"
      ],
      "text/plain": [
       "   Sex   Age   BMI  Diabetes  Fitness  Fruits  Vegetables  Alcohol  Smoker\n",
       "0  0.0   9.0  40.0       0.0      0.0     0.0         1.0      0.0     1.0\n",
       "1  0.0   7.0  25.0       0.0      1.0     0.0         0.0      0.0     1.0\n",
       "2  0.0   9.0  28.0       0.0      0.0     1.0         0.0      0.0     0.0\n",
       "3  0.0  11.0  27.0       0.0      1.0     1.0         1.0      0.0     0.0\n",
       "4  0.0  11.0  24.0       0.0      1.0     1.0         1.0      0.0     0.0"
      ]
     },
     "execution_count": 15,
     "metadata": {},
     "output_type": "execute_result"
    }
   ],
   "source": [
    "diabetes2.head()"
   ]
  },
  {
   "cell_type": "code",
   "execution_count": 16,
   "id": "7ff237b3",
   "metadata": {},
   "outputs": [
    {
     "data": {
      "text/plain": [
       "0.0    0.560769\n",
       "1.0    0.439231\n",
       "Name: Sex, dtype: float64"
      ]
     },
     "execution_count": 16,
     "metadata": {},
     "output_type": "execute_result"
    }
   ],
   "source": [
    "diabetes2.Sex.value_counts(normalize=True)"
   ]
  },
  {
   "cell_type": "markdown",
   "id": "b7ad9023",
   "metadata": {},
   "source": [
    "There are slightly more females than males in this survey."
   ]
  },
  {
   "cell_type": "code",
   "execution_count": 71,
   "id": "bb7ac110",
   "metadata": {
    "scrolled": true
   },
   "outputs": [
    {
     "data": {
      "text/plain": [
       "1.0      5512\n",
       "2.0      7068\n",
       "3.0     10025\n",
       "4.0     12234\n",
       "5.0     14050\n",
       "6.0     17299\n",
       "7.0     23140\n",
       "8.0     27301\n",
       "9.0     29736\n",
       "10.0    29168\n",
       "11.0    22041\n",
       "12.0    15394\n",
       "13.0    16813\n",
       "Name: Age, dtype: int64"
      ]
     },
     "execution_count": 71,
     "metadata": {},
     "output_type": "execute_result"
    }
   ],
   "source": [
    "diabetes2.Age.value_counts().sort_index()"
   ]
  },
  {
   "cell_type": "code",
   "execution_count": 18,
   "id": "97cd0c4a",
   "metadata": {
    "scrolled": true
   },
   "outputs": [
    {
     "data": {
      "text/plain": [
       "<AxesSubplot:>"
      ]
     },
     "execution_count": 18,
     "metadata": {},
     "output_type": "execute_result"
    },
    {
     "data": {
      "image/png": "[encoded data removed]",
      "text/plain": [
       "<Figure size 432x288 with 1 Axes>"
      ]
     },
     "metadata": {
      "needs_background": "light"
     },
     "output_type": "display_data"
    }
   ],
   "source": [
    "diabetes2.Age.hist(bins=13)"
   ]
  },
  {
   "cell_type": "code",
   "execution_count": 19,
   "id": "ead9a0f7",
   "metadata": {},
   "outputs": [
    {
     "data": {
      "text/plain": [
       "66188"
      ]
     },
     "execution_count": 19,
     "metadata": {},
     "output_type": "execute_result"
    }
   ],
   "source": [
    "diabetes2[diabetes2['Age']<=6].value_counts().sum()"
   ]
  },
  {
   "cell_type": "code",
   "execution_count": 20,
   "id": "453d6aa3",
   "metadata": {
    "scrolled": true
   },
   "outputs": [
    {
     "data": {
      "text/plain": [
       "229781"
      ]
     },
     "execution_count": 20,
     "metadata": {},
     "output_type": "execute_result"
    }
   ],
   "source": [
    "diabetes2.Age.value_counts().sum()"
   ]
  },
  {
   "cell_type": "code",
   "execution_count": 21,
   "id": "df07aa23",
   "metadata": {},
   "outputs": [
    {
     "data": {
      "text/plain": [
       "0.2880481850109452"
      ]
     },
     "execution_count": 21,
     "metadata": {},
     "output_type": "execute_result"
    }
   ],
   "source": [
    "younger_ages=diabetes2[diabetes2['Age']<=6].value_counts().sum()\n",
    "\n",
    "total_ages=diabetes2.Age.value_counts().sum()\n",
    "\n",
    "younger_ages/total_ages"
   ]
  },
  {
   "cell_type": "markdown",
   "id": "2eeb0fd5",
   "metadata": {},
   "source": [
    "Just over 70% of respondents are 50 and older. This may be a pretty high percentage of the older population to draw conclusions about age factors."
   ]
  },
  {
   "cell_type": "markdown",
   "id": "8d49a998",
   "metadata": {},
   "source": [
    "## Inputting Clearer Columns"
   ]
  },
  {
   "cell_type": "markdown",
   "id": "8644193e",
   "metadata": {},
   "source": [
    "A lot of our data is categorical in nature. Let's add new columns that better reflect 'Age' and 'Diabetes' columns."
   ]
  },
  {
   "cell_type": "code",
   "execution_count": 22,
   "id": "0cb15b53",
   "metadata": {},
   "outputs": [],
   "source": [
    "diabetes2=diabetes2.copy()\n",
    "\n",
    "def label(element):\n",
    "    if element == 1:\n",
    "        return '18-24'\n",
    "    elif element == 2:\n",
    "        return '25-29'\n",
    "    elif element == 3:\n",
    "        return '30-34'\n",
    "    elif element == 4:\n",
    "        return '35-39'\n",
    "    elif element == 5:\n",
    "        return '40-44'\n",
    "    elif element == 6:\n",
    "        return '45-49'\n",
    "    elif element == 7:\n",
    "        return '50-54'\n",
    "    elif element == 8:\n",
    "        return '55-59'\n",
    "    elif element == 9:\n",
    "        return '60-64'\n",
    "    elif element == 10:\n",
    "        return '65-69'\n",
    "    elif element == 11:\n",
    "        return '70-74'\n",
    "    elif element == 12:\n",
    "        return '74-79'\n",
    "    else:\n",
    "        return '80+'\n",
    "    \n",
    "diabetes2['Age_Range'] = diabetes2['Age'].apply(label)"
   ]
  },
  {
   "cell_type": "code",
   "execution_count": 23,
   "id": "71127f5f",
   "metadata": {},
   "outputs": [
    {
     "data": {
      "text/plain": [
       "18-24    0.023988\n",
       "25-29    0.030760\n",
       "30-34    0.043628\n",
       "35-39    0.053242\n",
       "40-44    0.061145\n",
       "45-49    0.075285\n",
       "50-54    0.100705\n",
       "55-59    0.118813\n",
       "60-64    0.129410\n",
       "65-69    0.126938\n",
       "70-74    0.095922\n",
       "74-79    0.066994\n",
       "80+      0.073170\n",
       "Name: Age_Range, dtype: float64"
      ]
     },
     "execution_count": 23,
     "metadata": {},
     "output_type": "execute_result"
    }
   ],
   "source": [
    "diabetes2\n",
    "\n",
    "diabetes2.Age_Range.value_counts(normalize=True).sort_index()"
   ]
  },
  {
   "cell_type": "markdown",
   "id": "04332318",
   "metadata": {},
   "source": [
    "Let's re-define the 'Diabetes' column."
   ]
  },
  {
   "cell_type": "code",
   "execution_count": 24,
   "id": "39baea2c",
   "metadata": {
    "scrolled": true
   },
   "outputs": [],
   "source": [
    "def label2(element):\n",
    "    if element == 0:\n",
    "        return 'Not Diabetic'\n",
    "    elif element == 1:\n",
    "        return 'Pre-Diabetic'\n",
    "    elif element == 2:\n",
    "        return 'Diabetic'\n",
    "    \n",
    "    \n",
    "diabetes2['Diabetic_Stat'] = diabetes2['Diabetes'].apply(label2)"
   ]
  },
  {
   "cell_type": "code",
   "execution_count": 25,
   "id": "540941d6",
   "metadata": {},
   "outputs": [
    {
     "data": {
      "text/plain": [
       "array(['Not Diabetic', 'Diabetic', 'Pre-Diabetic'], dtype=object)"
      ]
     },
     "execution_count": 25,
     "metadata": {},
     "output_type": "execute_result"
    }
   ],
   "source": [
    "diabetes2.Diabetic_Stat.unique()"
   ]
  },
  {
   "cell_type": "markdown",
   "id": "f5db28e5",
   "metadata": {},
   "source": [
    "Below, we can see the updated datafreme with the new columns, 'Age_Range' and 'Diabetic_Stat'"
   ]
  },
  {
   "cell_type": "code",
   "execution_count": 26,
   "id": "a185bab8",
   "metadata": {},
   "outputs": [
    {
     "data": {
      "text/html": [
       "<div>\n",
       "<style scoped>\n",
       "    .dataframe tbody tr th:only-of-type {\n",
       "        vertical-align: middle;\n",
       "    }\n",
       "\n",
       "    .dataframe tbody tr th {\n",
       "        vertical-align: top;\n",
       "    }\n",
       "\n",
       "    .dataframe thead th {\n",
       "        text-align: right;\n",
       "    }\n",
       "</style>\n",
       "<table border=\"1\" class=\"dataframe\">\n",
       "  <thead>\n",
       "    <tr style=\"text-align: right;\">\n",
       "      <th></th>\n",
       "      <th>Sex</th>\n",
       "      <th>Age</th>\n",
       "      <th>BMI</th>\n",
       "      <th>Diabetes</th>\n",
       "      <th>Fitness</th>\n",
       "      <th>Fruits</th>\n",
       "      <th>Vegetables</th>\n",
       "      <th>Alcohol</th>\n",
       "      <th>Smoker</th>\n",
       "      <th>Age_Range</th>\n",
       "      <th>Diabetic_Stat</th>\n",
       "    </tr>\n",
       "  </thead>\n",
       "  <tbody>\n",
       "    <tr>\n",
       "      <th>0</th>\n",
       "      <td>0.0</td>\n",
       "      <td>9.0</td>\n",
       "      <td>40.0</td>\n",
       "      <td>0.0</td>\n",
       "      <td>0.0</td>\n",
       "      <td>0.0</td>\n",
       "      <td>1.0</td>\n",
       "      <td>0.0</td>\n",
       "      <td>1.0</td>\n",
       "      <td>60-64</td>\n",
       "      <td>Not Diabetic</td>\n",
       "    </tr>\n",
       "    <tr>\n",
       "      <th>1</th>\n",
       "      <td>0.0</td>\n",
       "      <td>7.0</td>\n",
       "      <td>25.0</td>\n",
       "      <td>0.0</td>\n",
       "      <td>1.0</td>\n",
       "      <td>0.0</td>\n",
       "      <td>0.0</td>\n",
       "      <td>0.0</td>\n",
       "      <td>1.0</td>\n",
       "      <td>50-54</td>\n",
       "      <td>Not Diabetic</td>\n",
       "    </tr>\n",
       "    <tr>\n",
       "      <th>2</th>\n",
       "      <td>0.0</td>\n",
       "      <td>9.0</td>\n",
       "      <td>28.0</td>\n",
       "      <td>0.0</td>\n",
       "      <td>0.0</td>\n",
       "      <td>1.0</td>\n",
       "      <td>0.0</td>\n",
       "      <td>0.0</td>\n",
       "      <td>0.0</td>\n",
       "      <td>60-64</td>\n",
       "      <td>Not Diabetic</td>\n",
       "    </tr>\n",
       "    <tr>\n",
       "      <th>3</th>\n",
       "      <td>0.0</td>\n",
       "      <td>11.0</td>\n",
       "      <td>27.0</td>\n",
       "      <td>0.0</td>\n",
       "      <td>1.0</td>\n",
       "      <td>1.0</td>\n",
       "      <td>1.0</td>\n",
       "      <td>0.0</td>\n",
       "      <td>0.0</td>\n",
       "      <td>70-74</td>\n",
       "      <td>Not Diabetic</td>\n",
       "    </tr>\n",
       "    <tr>\n",
       "      <th>4</th>\n",
       "      <td>0.0</td>\n",
       "      <td>11.0</td>\n",
       "      <td>24.0</td>\n",
       "      <td>0.0</td>\n",
       "      <td>1.0</td>\n",
       "      <td>1.0</td>\n",
       "      <td>1.0</td>\n",
       "      <td>0.0</td>\n",
       "      <td>0.0</td>\n",
       "      <td>70-74</td>\n",
       "      <td>Not Diabetic</td>\n",
       "    </tr>\n",
       "    <tr>\n",
       "      <th>...</th>\n",
       "      <td>...</td>\n",
       "      <td>...</td>\n",
       "      <td>...</td>\n",
       "      <td>...</td>\n",
       "      <td>...</td>\n",
       "      <td>...</td>\n",
       "      <td>...</td>\n",
       "      <td>...</td>\n",
       "      <td>...</td>\n",
       "      <td>...</td>\n",
       "      <td>...</td>\n",
       "    </tr>\n",
       "    <tr>\n",
       "      <th>253675</th>\n",
       "      <td>1.0</td>\n",
       "      <td>5.0</td>\n",
       "      <td>45.0</td>\n",
       "      <td>0.0</td>\n",
       "      <td>0.0</td>\n",
       "      <td>1.0</td>\n",
       "      <td>1.0</td>\n",
       "      <td>0.0</td>\n",
       "      <td>0.0</td>\n",
       "      <td>40-44</td>\n",
       "      <td>Not Diabetic</td>\n",
       "    </tr>\n",
       "    <tr>\n",
       "      <th>253676</th>\n",
       "      <td>0.0</td>\n",
       "      <td>11.0</td>\n",
       "      <td>18.0</td>\n",
       "      <td>2.0</td>\n",
       "      <td>0.0</td>\n",
       "      <td>0.0</td>\n",
       "      <td>0.0</td>\n",
       "      <td>0.0</td>\n",
       "      <td>0.0</td>\n",
       "      <td>70-74</td>\n",
       "      <td>Diabetic</td>\n",
       "    </tr>\n",
       "    <tr>\n",
       "      <th>253677</th>\n",
       "      <td>0.0</td>\n",
       "      <td>2.0</td>\n",
       "      <td>28.0</td>\n",
       "      <td>0.0</td>\n",
       "      <td>1.0</td>\n",
       "      <td>1.0</td>\n",
       "      <td>0.0</td>\n",
       "      <td>0.0</td>\n",
       "      <td>0.0</td>\n",
       "      <td>25-29</td>\n",
       "      <td>Not Diabetic</td>\n",
       "    </tr>\n",
       "    <tr>\n",
       "      <th>253678</th>\n",
       "      <td>1.0</td>\n",
       "      <td>7.0</td>\n",
       "      <td>23.0</td>\n",
       "      <td>0.0</td>\n",
       "      <td>0.0</td>\n",
       "      <td>1.0</td>\n",
       "      <td>1.0</td>\n",
       "      <td>0.0</td>\n",
       "      <td>0.0</td>\n",
       "      <td>50-54</td>\n",
       "      <td>Not Diabetic</td>\n",
       "    </tr>\n",
       "    <tr>\n",
       "      <th>253679</th>\n",
       "      <td>0.0</td>\n",
       "      <td>9.0</td>\n",
       "      <td>25.0</td>\n",
       "      <td>2.0</td>\n",
       "      <td>1.0</td>\n",
       "      <td>1.0</td>\n",
       "      <td>0.0</td>\n",
       "      <td>0.0</td>\n",
       "      <td>0.0</td>\n",
       "      <td>60-64</td>\n",
       "      <td>Diabetic</td>\n",
       "    </tr>\n",
       "  </tbody>\n",
       "</table>\n",
       "<p>229781 rows × 11 columns</p>\n",
       "</div>"
      ],
      "text/plain": [
       "        Sex   Age   BMI  Diabetes  Fitness  Fruits  Vegetables  Alcohol  \\\n",
       "0       0.0   9.0  40.0       0.0      0.0     0.0         1.0      0.0   \n",
       "1       0.0   7.0  25.0       0.0      1.0     0.0         0.0      0.0   \n",
       "2       0.0   9.0  28.0       0.0      0.0     1.0         0.0      0.0   \n",
       "3       0.0  11.0  27.0       0.0      1.0     1.0         1.0      0.0   \n",
       "4       0.0  11.0  24.0       0.0      1.0     1.0         1.0      0.0   \n",
       "...     ...   ...   ...       ...      ...     ...         ...      ...   \n",
       "253675  1.0   5.0  45.0       0.0      0.0     1.0         1.0      0.0   \n",
       "253676  0.0  11.0  18.0       2.0      0.0     0.0         0.0      0.0   \n",
       "253677  0.0   2.0  28.0       0.0      1.0     1.0         0.0      0.0   \n",
       "253678  1.0   7.0  23.0       0.0      0.0     1.0         1.0      0.0   \n",
       "253679  0.0   9.0  25.0       2.0      1.0     1.0         0.0      0.0   \n",
       "\n",
       "        Smoker Age_Range Diabetic_Stat  \n",
       "0          1.0     60-64  Not Diabetic  \n",
       "1          1.0     50-54  Not Diabetic  \n",
       "2          0.0     60-64  Not Diabetic  \n",
       "3          0.0     70-74  Not Diabetic  \n",
       "4          0.0     70-74  Not Diabetic  \n",
       "...        ...       ...           ...  \n",
       "253675     0.0     40-44  Not Diabetic  \n",
       "253676     0.0     70-74      Diabetic  \n",
       "253677     0.0     25-29  Not Diabetic  \n",
       "253678     0.0     50-54  Not Diabetic  \n",
       "253679     0.0     60-64      Diabetic  \n",
       "\n",
       "[229781 rows x 11 columns]"
      ]
     },
     "execution_count": 26,
     "metadata": {},
     "output_type": "execute_result"
    }
   ],
   "source": [
    "diabetes2"
   ]
  },
  {
   "cell_type": "markdown",
   "id": "33c33c7d",
   "metadata": {},
   "source": [
    "## Initial Data Exploration\n"
   ]
  },
  {
   "cell_type": "markdown",
   "id": "66510c90",
   "metadata": {},
   "source": [
    "### Age and  Behaviors"
   ]
  },
  {
   "cell_type": "code",
   "execution_count": 27,
   "id": "520b3057",
   "metadata": {
    "scrolled": true
   },
   "outputs": [
    {
     "data": {
      "text/plain": [
       "0.0    0.827114\n",
       "1.0    0.020145\n",
       "2.0    0.152741\n",
       "Name: Diabetes, dtype: float64"
      ]
     },
     "execution_count": 27,
     "metadata": {},
     "output_type": "execute_result"
    }
   ],
   "source": [
    "diabetes2.Diabetes.value_counts(normalize=True).sort_index()"
   ]
  },
  {
   "cell_type": "markdown",
   "id": "7e2cdc3c",
   "metadata": {},
   "source": [
    "Almost 83% of respondents don't have diabetes, only 1% have prediabetes, and 15% were diagnosed with diabetes. The original data set does not differentiate between Type 1 and 2 Diabetes. According to [ADA]( https://www.diabetes.org/about-us/statistics/about-diabetes), 11.3% of Americans were diagnosed with Diabetes type 1 or 2 in 2019, so these percentages could be considered representative."
   ]
  },
  {
   "cell_type": "code",
   "execution_count": 28,
   "id": "29f0b760",
   "metadata": {},
   "outputs": [],
   "source": [
    "new_data= pd.read_csv(r'C:\\Users\\ARA\\Desktop\\Data Science\\dba.csv')"
   ]
  },
  {
   "cell_type": "code",
   "execution_count": 29,
   "id": "5b1a810c",
   "metadata": {
    "scrolled": true
   },
   "outputs": [
    {
     "data": {
      "text/html": [
       "<div>\n",
       "<style scoped>\n",
       "    .dataframe tbody tr th:only-of-type {\n",
       "        vertical-align: middle;\n",
       "    }\n",
       "\n",
       "    .dataframe tbody tr th {\n",
       "        vertical-align: top;\n",
       "    }\n",
       "\n",
       "    .dataframe thead th {\n",
       "        text-align: right;\n",
       "    }\n",
       "</style>\n",
       "<table border=\"1\" class=\"dataframe\">\n",
       "  <thead>\n",
       "    <tr style=\"text-align: right;\">\n",
       "      <th></th>\n",
       "      <th>Ages</th>\n",
       "      <th>No Diabetes</th>\n",
       "      <th>Pre_Diabetes</th>\n",
       "      <th>Diabetes</th>\n",
       "    </tr>\n",
       "  </thead>\n",
       "  <tbody>\n",
       "    <tr>\n",
       "      <th>1</th>\n",
       "      <td>18 -24</td>\n",
       "      <td>98.26%</td>\n",
       "      <td>0.37%</td>\n",
       "      <td>1.37%</td>\n",
       "    </tr>\n",
       "    <tr>\n",
       "      <th>2</th>\n",
       "      <td>25-29</td>\n",
       "      <td>97.45%</td>\n",
       "      <td>0.71%</td>\n",
       "      <td>1.84%</td>\n",
       "    </tr>\n",
       "    <tr>\n",
       "      <th>3</th>\n",
       "      <td>30-34</td>\n",
       "      <td>96.53%</td>\n",
       "      <td>0.65%</td>\n",
       "      <td>2.82%</td>\n",
       "    </tr>\n",
       "    <tr>\n",
       "      <th>4</th>\n",
       "      <td>35-39</td>\n",
       "      <td>94.44%</td>\n",
       "      <td>1.03%</td>\n",
       "      <td>4.53%</td>\n",
       "    </tr>\n",
       "    <tr>\n",
       "      <th>5</th>\n",
       "      <td>40-44</td>\n",
       "      <td>92.49%</td>\n",
       "      <td>1.01%</td>\n",
       "      <td>6.50%</td>\n",
       "    </tr>\n",
       "    <tr>\n",
       "      <th>6</th>\n",
       "      <td>45-49</td>\n",
       "      <td>89.64%</td>\n",
       "      <td>1.57%</td>\n",
       "      <td>8.79%</td>\n",
       "    </tr>\n",
       "    <tr>\n",
       "      <th>7</th>\n",
       "      <td>50-54</td>\n",
       "      <td>86.68%</td>\n",
       "      <td>1.59%</td>\n",
       "      <td>11.74%</td>\n",
       "    </tr>\n",
       "    <tr>\n",
       "      <th>8</th>\n",
       "      <td>55-59</td>\n",
       "      <td>84.39%</td>\n",
       "      <td>1.78%</td>\n",
       "      <td>13.83%</td>\n",
       "    </tr>\n",
       "    <tr>\n",
       "      <th>9</th>\n",
       "      <td>60-64</td>\n",
       "      <td>80.64%</td>\n",
       "      <td>2.11%</td>\n",
       "      <td>17.25%</td>\n",
       "    </tr>\n",
       "    <tr>\n",
       "      <th>10</th>\n",
       "      <td>65-69</td>\n",
       "      <td>77.46%</td>\n",
       "      <td>2.16%</td>\n",
       "      <td>20.37%</td>\n",
       "    </tr>\n",
       "    <tr>\n",
       "      <th>11</th>\n",
       "      <td>70-74</td>\n",
       "      <td>75.60%</td>\n",
       "      <td>2.56%</td>\n",
       "      <td>21.85%</td>\n",
       "    </tr>\n",
       "    <tr>\n",
       "      <th>12</th>\n",
       "      <td>74-79</td>\n",
       "      <td>75.92%</td>\n",
       "      <td>2.78%</td>\n",
       "      <td>21.30%</td>\n",
       "    </tr>\n",
       "    <tr>\n",
       "      <th>13</th>\n",
       "      <td>80+</td>\n",
       "      <td>78.91%</td>\n",
       "      <td>2.61%</td>\n",
       "      <td>18.48%</td>\n",
       "    </tr>\n",
       "  </tbody>\n",
       "</table>\n",
       "</div>"
      ],
      "text/plain": [
       "      Ages No Diabetes Pre_Diabetes Diabetes\n",
       "1   18 -24      98.26%        0.37%    1.37%\n",
       "2    25-29      97.45%        0.71%    1.84%\n",
       "3    30-34      96.53%        0.65%    2.82%\n",
       "4    35-39      94.44%        1.03%    4.53%\n",
       "5    40-44      92.49%        1.01%    6.50%\n",
       "6    45-49      89.64%        1.57%    8.79%\n",
       "7    50-54      86.68%        1.59%   11.74%\n",
       "8    55-59      84.39%        1.78%   13.83%\n",
       "9    60-64      80.64%        2.11%   17.25%\n",
       "10   65-69      77.46%        2.16%   20.37%\n",
       "11   70-74      75.60%        2.56%   21.85%\n",
       "12   74-79      75.92%        2.78%   21.30%\n",
       "13     80+      78.91%        2.61%   18.48%"
      ]
     },
     "execution_count": 29,
     "metadata": {},
     "output_type": "execute_result"
    }
   ],
   "source": [
    "new_data.drop([0])\n"
   ]
  },
  {
   "cell_type": "markdown",
   "id": "898de098",
   "metadata": {},
   "source": [
    "The table above shows that the prevalence of pre-diabetes and diabetes is generally higher the older the person is."
   ]
  },
  {
   "cell_type": "markdown",
   "id": "93a59940",
   "metadata": {},
   "source": [
    "### Health Behaviors"
   ]
  },
  {
   "cell_type": "code",
   "execution_count": 53,
   "id": "41e5f16f",
   "metadata": {
    "scrolled": true
   },
   "outputs": [
    {
     "data": {
      "text/html": [
       "<div>\n",
       "<style scoped>\n",
       "    .dataframe tbody tr th:only-of-type {\n",
       "        vertical-align: middle;\n",
       "    }\n",
       "\n",
       "    .dataframe tbody tr th {\n",
       "        vertical-align: top;\n",
       "    }\n",
       "\n",
       "    .dataframe thead th {\n",
       "        text-align: right;\n",
       "    }\n",
       "</style>\n",
       "<table border=\"1\" class=\"dataframe\">\n",
       "  <thead>\n",
       "    <tr style=\"text-align: right;\">\n",
       "      <th></th>\n",
       "      <th>Fruits</th>\n",
       "      <th>Vegetables</th>\n",
       "    </tr>\n",
       "    <tr>\n",
       "      <th>Age_Range</th>\n",
       "      <th></th>\n",
       "      <th></th>\n",
       "    </tr>\n",
       "  </thead>\n",
       "  <tbody>\n",
       "    <tr>\n",
       "      <th>18-24</th>\n",
       "      <td>0.568033</td>\n",
       "      <td>0.767779</td>\n",
       "    </tr>\n",
       "    <tr>\n",
       "      <th>25-29</th>\n",
       "      <td>0.585314</td>\n",
       "      <td>0.794143</td>\n",
       "    </tr>\n",
       "    <tr>\n",
       "      <th>30-34</th>\n",
       "      <td>0.600698</td>\n",
       "      <td>0.818853</td>\n",
       "    </tr>\n",
       "    <tr>\n",
       "      <th>35-39</th>\n",
       "      <td>0.602256</td>\n",
       "      <td>0.815759</td>\n",
       "    </tr>\n",
       "    <tr>\n",
       "      <th>40-44</th>\n",
       "      <td>0.575089</td>\n",
       "      <td>0.801352</td>\n",
       "    </tr>\n",
       "    <tr>\n",
       "      <th>45-49</th>\n",
       "      <td>0.568414</td>\n",
       "      <td>0.789294</td>\n",
       "    </tr>\n",
       "    <tr>\n",
       "      <th>50-54</th>\n",
       "      <td>0.575022</td>\n",
       "      <td>0.786733</td>\n",
       "    </tr>\n",
       "    <tr>\n",
       "      <th>55-59</th>\n",
       "      <td>0.586645</td>\n",
       "      <td>0.792425</td>\n",
       "    </tr>\n",
       "    <tr>\n",
       "      <th>60-64</th>\n",
       "      <td>0.597794</td>\n",
       "      <td>0.792676</td>\n",
       "    </tr>\n",
       "    <tr>\n",
       "      <th>65-69</th>\n",
       "      <td>0.613618</td>\n",
       "      <td>0.792684</td>\n",
       "    </tr>\n",
       "    <tr>\n",
       "      <th>70-74</th>\n",
       "      <td>0.640488</td>\n",
       "      <td>0.795926</td>\n",
       "    </tr>\n",
       "    <tr>\n",
       "      <th>74-79</th>\n",
       "      <td>0.681239</td>\n",
       "      <td>0.790763</td>\n",
       "    </tr>\n",
       "    <tr>\n",
       "      <th>80+</th>\n",
       "      <td>0.754000</td>\n",
       "      <td>0.799322</td>\n",
       "    </tr>\n",
       "  </tbody>\n",
       "</table>\n",
       "</div>"
      ],
      "text/plain": [
       "             Fruits  Vegetables\n",
       "Age_Range                      \n",
       "18-24      0.568033    0.767779\n",
       "25-29      0.585314    0.794143\n",
       "30-34      0.600698    0.818853\n",
       "35-39      0.602256    0.815759\n",
       "40-44      0.575089    0.801352\n",
       "45-49      0.568414    0.789294\n",
       "50-54      0.575022    0.786733\n",
       "55-59      0.586645    0.792425\n",
       "60-64      0.597794    0.792676\n",
       "65-69      0.613618    0.792684\n",
       "70-74      0.640488    0.795926\n",
       "74-79      0.681239    0.790763\n",
       "80+        0.754000    0.799322"
      ]
     },
     "execution_count": 53,
     "metadata": {},
     "output_type": "execute_result"
    }
   ],
   "source": [
    "veg_fru_pv=diabetes2.pivot_table(values=['Vegetables',\"Fruits\"], index='Age_Range')\n",
    "\n",
    "veg_fru_pv"
   ]
  },
  {
   "cell_type": "markdown",
   "id": "535f3aba",
   "metadata": {},
   "source": [
    "Vegetable intake is high across all age groups. Fruit intake is around 60-65% across all age groups, except for the two oldest age groups (74-79 and 80+), with higher intakes at 68% and 75% for each group."
   ]
  },
  {
   "cell_type": "code",
   "execution_count": 54,
   "id": "ad070927",
   "metadata": {},
   "outputs": [
    {
     "data": {
      "text/html": [
       "<div>\n",
       "<style scoped>\n",
       "    .dataframe tbody tr th:only-of-type {\n",
       "        vertical-align: middle;\n",
       "    }\n",
       "\n",
       "    .dataframe tbody tr th {\n",
       "        vertical-align: top;\n",
       "    }\n",
       "\n",
       "    .dataframe thead th {\n",
       "        text-align: right;\n",
       "    }\n",
       "</style>\n",
       "<table border=\"1\" class=\"dataframe\">\n",
       "  <thead>\n",
       "    <tr style=\"text-align: right;\">\n",
       "      <th></th>\n",
       "      <th>Fitness</th>\n",
       "    </tr>\n",
       "    <tr>\n",
       "      <th>Age_Range</th>\n",
       "      <th></th>\n",
       "    </tr>\n",
       "  </thead>\n",
       "  <tbody>\n",
       "    <tr>\n",
       "      <th>18-24</th>\n",
       "      <td>0.864296</td>\n",
       "    </tr>\n",
       "    <tr>\n",
       "      <th>25-29</th>\n",
       "      <td>0.833192</td>\n",
       "    </tr>\n",
       "    <tr>\n",
       "      <th>30-34</th>\n",
       "      <td>0.807282</td>\n",
       "    </tr>\n",
       "    <tr>\n",
       "      <th>35-39</th>\n",
       "      <td>0.777015</td>\n",
       "    </tr>\n",
       "    <tr>\n",
       "      <th>40-44</th>\n",
       "      <td>0.762135</td>\n",
       "    </tr>\n",
       "    <tr>\n",
       "      <th>45-49</th>\n",
       "      <td>0.745477</td>\n",
       "    </tr>\n",
       "    <tr>\n",
       "      <th>50-54</th>\n",
       "      <td>0.727139</td>\n",
       "    </tr>\n",
       "    <tr>\n",
       "      <th>55-59</th>\n",
       "      <td>0.720193</td>\n",
       "    </tr>\n",
       "    <tr>\n",
       "      <th>60-64</th>\n",
       "      <td>0.721617</td>\n",
       "    </tr>\n",
       "    <tr>\n",
       "      <th>65-69</th>\n",
       "      <td>0.729052</td>\n",
       "    </tr>\n",
       "    <tr>\n",
       "      <th>70-74</th>\n",
       "      <td>0.717118</td>\n",
       "    </tr>\n",
       "    <tr>\n",
       "      <th>74-79</th>\n",
       "      <td>0.689359</td>\n",
       "    </tr>\n",
       "    <tr>\n",
       "      <th>80+</th>\n",
       "      <td>0.655802</td>\n",
       "    </tr>\n",
       "  </tbody>\n",
       "</table>\n",
       "</div>"
      ],
      "text/plain": [
       "            Fitness\n",
       "Age_Range          \n",
       "18-24      0.864296\n",
       "25-29      0.833192\n",
       "30-34      0.807282\n",
       "35-39      0.777015\n",
       "40-44      0.762135\n",
       "45-49      0.745477\n",
       "50-54      0.727139\n",
       "55-59      0.720193\n",
       "60-64      0.721617\n",
       "65-69      0.729052\n",
       "70-74      0.717118\n",
       "74-79      0.689359\n",
       "80+        0.655802"
      ]
     },
     "execution_count": 54,
     "metadata": {},
     "output_type": "execute_result"
    }
   ],
   "source": [
    "fit_pv=diabetes2.pivot_table(values=['Fitness'], index='Age_Range')\n",
    "\n",
    "fit_pv"
   ]
  },
  {
   "cell_type": "markdown",
   "id": "67361604",
   "metadata": {},
   "source": [
    "As age increases, fitness steadily decreases."
   ]
  },
  {
   "cell_type": "markdown",
   "id": "2bb8667e",
   "metadata": {},
   "source": [
    "### Risk Behaviors"
   ]
  },
  {
   "cell_type": "code",
   "execution_count": 68,
   "id": "6d1a349f",
   "metadata": {},
   "outputs": [
    {
     "data": {
      "text/html": [
       "<div>\n",
       "<style scoped>\n",
       "    .dataframe tbody tr th:only-of-type {\n",
       "        vertical-align: middle;\n",
       "    }\n",
       "\n",
       "    .dataframe tbody tr th {\n",
       "        vertical-align: top;\n",
       "    }\n",
       "\n",
       "    .dataframe thead th {\n",
       "        text-align: right;\n",
       "    }\n",
       "</style>\n",
       "<table border=\"1\" class=\"dataframe\">\n",
       "  <thead>\n",
       "    <tr style=\"text-align: right;\">\n",
       "      <th></th>\n",
       "      <th>Alcohol</th>\n",
       "      <th>Smoker</th>\n",
       "    </tr>\n",
       "    <tr>\n",
       "      <th>Age_Range</th>\n",
       "      <th></th>\n",
       "      <th></th>\n",
       "    </tr>\n",
       "  </thead>\n",
       "  <tbody>\n",
       "    <tr>\n",
       "      <th>18-24</th>\n",
       "      <td>0.080007</td>\n",
       "      <td>0.224782</td>\n",
       "    </tr>\n",
       "    <tr>\n",
       "      <th>25-29</th>\n",
       "      <td>0.073571</td>\n",
       "      <td>0.322015</td>\n",
       "    </tr>\n",
       "    <tr>\n",
       "      <th>30-34</th>\n",
       "      <td>0.066933</td>\n",
       "      <td>0.404090</td>\n",
       "    </tr>\n",
       "    <tr>\n",
       "      <th>35-39</th>\n",
       "      <td>0.066291</td>\n",
       "      <td>0.429459</td>\n",
       "    </tr>\n",
       "    <tr>\n",
       "      <th>40-44</th>\n",
       "      <td>0.063772</td>\n",
       "      <td>0.392171</td>\n",
       "    </tr>\n",
       "    <tr>\n",
       "      <th>45-49</th>\n",
       "      <td>0.070351</td>\n",
       "      <td>0.403260</td>\n",
       "    </tr>\n",
       "    <tr>\n",
       "      <th>50-54</th>\n",
       "      <td>0.072774</td>\n",
       "      <td>0.454754</td>\n",
       "    </tr>\n",
       "    <tr>\n",
       "      <th>55-59</th>\n",
       "      <td>0.068386</td>\n",
       "      <td>0.490531</td>\n",
       "    </tr>\n",
       "    <tr>\n",
       "      <th>60-64</th>\n",
       "      <td>0.060903</td>\n",
       "      <td>0.493207</td>\n",
       "    </tr>\n",
       "    <tr>\n",
       "      <th>65-69</th>\n",
       "      <td>0.059517</td>\n",
       "      <td>0.525199</td>\n",
       "    </tr>\n",
       "    <tr>\n",
       "      <th>70-74</th>\n",
       "      <td>0.050769</td>\n",
       "      <td>0.550066</td>\n",
       "    </tr>\n",
       "    <tr>\n",
       "      <th>74-79</th>\n",
       "      <td>0.044563</td>\n",
       "      <td>0.518514</td>\n",
       "    </tr>\n",
       "    <tr>\n",
       "      <th>80+</th>\n",
       "      <td>0.029204</td>\n",
       "      <td>0.457265</td>\n",
       "    </tr>\n",
       "  </tbody>\n",
       "</table>\n",
       "</div>"
      ],
      "text/plain": [
       "            Alcohol    Smoker\n",
       "Age_Range                    \n",
       "18-24      0.080007  0.224782\n",
       "25-29      0.073571  0.322015\n",
       "30-34      0.066933  0.404090\n",
       "35-39      0.066291  0.429459\n",
       "40-44      0.063772  0.392171\n",
       "45-49      0.070351  0.403260\n",
       "50-54      0.072774  0.454754\n",
       "55-59      0.068386  0.490531\n",
       "60-64      0.060903  0.493207\n",
       "65-69      0.059517  0.525199\n",
       "70-74      0.050769  0.550066\n",
       "74-79      0.044563  0.518514\n",
       "80+        0.029204  0.457265"
      ]
     },
     "execution_count": 68,
     "metadata": {},
     "output_type": "execute_result"
    }
   ],
   "source": [
    "alc_smo_pv=diabetes2.pivot_table(values=['Alcohol','Smoker'], index='Age_Range')\n",
    "\n",
    "alc_smo_pv\n"
   ]
  },
  {
   "cell_type": "markdown",
   "id": "e4bfabbd",
   "metadata": {},
   "source": [
    "Prevalence of overconsumption of alcohol is uniformly 6-8% for all ages, except for groups aged 70+, which had a slightly lower percentage."
   ]
  },
  {
   "cell_type": "code",
   "execution_count": 67,
   "id": "0e349fde",
   "metadata": {},
   "outputs": [
    {
     "data": {
      "image/png": "[encoded data removed]",
      "text/plain": [
       "<Figure size 432x288 with 1 Axes>"
      ]
     },
     "metadata": {
      "needs_background": "light"
     },
     "output_type": "display_data"
    }
   ],
   "source": [
    "risk=alc_smo_pv.plot(kind='bar', rot=30, ylim=(0,.6))"
   ]
  },
  {
   "cell_type": "markdown",
   "id": "252380d9",
   "metadata": {},
   "source": [
    "Smoking prevalence tended to increase with age with percentages at 45% or higher for all age groups starting with 50+."
   ]
  },
  {
   "cell_type": "markdown",
   "id": "da8ee08a",
   "metadata": {},
   "source": [
    "### Factors that Affect Diabetes\n"
   ]
  },
  {
   "cell_type": "code",
   "execution_count": 30,
   "id": "7a103fb5",
   "metadata": {
    "scrolled": true
   },
   "outputs": [
    {
     "data": {
      "text/plain": [
       "Sex           0.032243\n",
       "Age           0.184642\n",
       "BMI           0.212027\n",
       "Diabetes      1.000000\n",
       "Fitness      -0.103408\n",
       "Fruits       -0.025462\n",
       "Vegetables   -0.043446\n",
       "Alcohol      -0.067164\n",
       "Smoker        0.046774\n",
       "Name: Diabetes, dtype: float64"
      ]
     },
     "execution_count": 30,
     "metadata": {},
     "output_type": "execute_result"
    }
   ],
   "source": [
    "diabetes2.corr().Diabetes"
   ]
  },
  {
   "cell_type": "markdown",
   "id": "05019a12",
   "metadata": {},
   "source": [
    "The greatest factors that correlate with diabetes are Age and BMI, which are modest positive correlations."
   ]
  },
  {
   "cell_type": "code",
   "execution_count": 31,
   "id": "52484c2a",
   "metadata": {},
   "outputs": [
    {
     "data": {
      "text/plain": [
       "Sex           0.030989\n",
       "Age          -0.049347\n",
       "BMI           1.000000\n",
       "Diabetes      0.212027\n",
       "Fitness      -0.127864\n",
       "Fruits       -0.067528\n",
       "Vegetables   -0.044185\n",
       "Alcohol      -0.058334\n",
       "Smoker       -0.009196\n",
       "Name: BMI, dtype: float64"
      ]
     },
     "execution_count": 31,
     "metadata": {},
     "output_type": "execute_result"
    }
   ],
   "source": [
    "diabetes2.corr().BMI"
   ]
  },
  {
   "cell_type": "markdown",
   "id": "54a7d23d",
   "metadata": {
    "scrolled": true
   },
   "source": [
    "BMI is slighlty negatively correlated with Fitness and Fruits, but too small of a correlation to make any conclusions. "
   ]
  },
  {
   "cell_type": "code",
   "execution_count": 32,
   "id": "c0853444",
   "metadata": {
    "scrolled": true
   },
   "outputs": [
    {
     "data": {
      "text/html": [
       "<div>\n",
       "<style scoped>\n",
       "    .dataframe tbody tr th:only-of-type {\n",
       "        vertical-align: middle;\n",
       "    }\n",
       "\n",
       "    .dataframe tbody tr th {\n",
       "        vertical-align: top;\n",
       "    }\n",
       "\n",
       "    .dataframe thead th {\n",
       "        text-align: right;\n",
       "    }\n",
       "</style>\n",
       "<table border=\"1\" class=\"dataframe\">\n",
       "  <thead>\n",
       "    <tr style=\"text-align: right;\">\n",
       "      <th></th>\n",
       "      <th>Fitness</th>\n",
       "    </tr>\n",
       "    <tr>\n",
       "      <th>Diabetic_Stat</th>\n",
       "      <th></th>\n",
       "    </tr>\n",
       "  </thead>\n",
       "  <tbody>\n",
       "    <tr>\n",
       "      <th>Diabetic</th>\n",
       "      <td>0.628515</td>\n",
       "    </tr>\n",
       "    <tr>\n",
       "      <th>Not Diabetic</th>\n",
       "      <td>0.754055</td>\n",
       "    </tr>\n",
       "    <tr>\n",
       "      <th>Pre-Diabetic</th>\n",
       "      <td>0.678332</td>\n",
       "    </tr>\n",
       "  </tbody>\n",
       "</table>\n",
       "</div>"
      ],
      "text/plain": [
       "                Fitness\n",
       "Diabetic_Stat          \n",
       "Diabetic       0.628515\n",
       "Not Diabetic   0.754055\n",
       "Pre-Diabetic   0.678332"
      ]
     },
     "execution_count": 32,
     "metadata": {},
     "output_type": "execute_result"
    }
   ],
   "source": [
    "dia_pv=diabetes2.pivot_table(values=['Fitness'], index='Diabetic_Stat')\n",
    "\n",
    "dia_pv"
   ]
  },
  {
   "cell_type": "markdown",
   "id": "1cf024ed",
   "metadata": {},
   "source": [
    "However, it's interesting to note that the Not Diabetic group is the most active, while the Diabetic group is the least."
   ]
  },
  {
   "cell_type": "markdown",
   "id": "dca44e6c",
   "metadata": {},
   "source": [
    "## Conclusion"
   ]
  },
  {
   "cell_type": "markdown",
   "id": "4e0a820a",
   "metadata": {},
   "source": [
    "The purpose of this study was to practice data analysis skills and also determine what factors increased or decreased likelihood of a person having diabetes. The data set originally conisted of 253,680 survey responses for the CDC's BRFSS2015 (Behavioral Risk Factor Surveillance System) conducted in 2015. With this project, the data was reduced to 229,781 rows once duplicates were removed.\n",
    "\n",
    "Over 70% of surveyers were 50+. The older age groups had a higher incidence of smoking, while alcohol consumption was between 2-8% across all age groups.\n",
    "\n",
    "The data was cleaned via:\n",
    "\n",
    "* renaming columns\n",
    "* removing duplicate columns\n",
    "* dropping non-relevant columns\n",
    "* re-ordering columns\n",
    "* adding additional relevant columns\n",
    "\n",
    "Results showed that only BMI and Age had a very moderate postive correlation with diabetic status.\n",
    "\n",
    "For future data exploration:\n",
    "\n",
    "* Run correlations or perform other appropriate ojective measures first to determine relevant columns\n",
    "* Explore data sets with a more even distribution of groups (i.e. ages in this case)\n",
    "* Utlize more data visualizations to better understand the data\n",
    "\n"
   ]
  }
 ],
 "metadata": {
  "kernelspec": {
   "display_name": "Python 3 (ipykernel)",
   "language": "python",
   "name": "python3"
  },
  "language_info": {
   "codemirror_mode": {
    "name": "ipython",
    "version": 3
   },
   "file_extension": ".py",
   "mimetype": "text/x-python",
   "name": "python",
   "nbconvert_exporter": "python",
   "pygments_lexer": "ipython3",
   "version": "3.9.7"
  }
 },
 "nbformat": 4,
 "nbformat_minor": 5
}
